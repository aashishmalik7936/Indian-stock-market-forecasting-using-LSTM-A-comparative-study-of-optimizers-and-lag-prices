{
  "nbformat": 4,
  "nbformat_minor": 0,
  "metadata": {
    "colab": {
      "name": "hdfcbank_lstm_paperwork_lag10.ipynb",
      "provenance": [],
      "collapsed_sections": []
    },
    "kernelspec": {
      "name": "python3",
      "display_name": "Python 3"
    },
    "language_info": {
      "name": "python"
    }
  },
  "cells": [
    {
      "cell_type": "code",
      "metadata": {
        "id": "ANijzfxkyYpY"
      },
      "source": [
        "import pandas as pd\n",
        "import numpy as np\n",
        "import matplotlib.pyplot as plt\n",
        "import seaborn as sns\n",
        "from sklearn.preprocessing import MinMaxScaler\n",
        "from tensorflow.keras.models import Sequential\n",
        "from tensorflow.keras.layers import Dense\n",
        "from tensorflow.keras.layers import LSTM\n",
        "from tensorflow.keras.layers import Activation\n",
        "from keras.callbacks import EarlyStopping\n",
        "import math\n",
        "from sklearn.metrics import mean_squared_error\n",
        "from sklearn.metrics import r2_score\n",
        "import time\n",
        "seed_value= 42\n",
        "\n",
        "# 1. Set the `PYTHONHASHSEED` environment variable at a fixed value\n",
        "import os\n",
        "os.environ['PYTHONHASHSEED']=str(seed_value)\n",
        "\n",
        "# 2. Set the `python` built-in pseudo-random generator at a fixed value\n",
        "import random\n",
        "random.seed(seed_value)\n",
        "\n",
        "# 3. Set the `numpy` pseudo-random generator at a fixed value\n",
        "import numpy as np\n",
        "np.random.seed(seed_value)\n",
        "\n",
        "# 4. Set the `tensorflow` pseudo-random generator at a fixed value\n",
        "import tensorflow as tf\n",
        "tf.random.set_seed(seed_value)"
      ],
      "execution_count": 2,
      "outputs": []
    },
    {
      "cell_type": "code",
      "metadata": {
        "id": "-_Kiv3E2wb52",
        "colab": {
          "base_uri": "https://localhost:8080/",
          "height": 203
        },
        "outputId": "55542caa-fa02-4f63-d7f0-d73e1510eeb2"
      },
      "source": [
        "df=pd.read_csv(\"HDFCBANK.BO.csv\")\n",
        "df.head()"
      ],
      "execution_count": 3,
      "outputs": [
        {
          "output_type": "execute_result",
          "data": {
            "text/html": [
              "<div>\n",
              "<style scoped>\n",
              "    .dataframe tbody tr th:only-of-type {\n",
              "        vertical-align: middle;\n",
              "    }\n",
              "\n",
              "    .dataframe tbody tr th {\n",
              "        vertical-align: top;\n",
              "    }\n",
              "\n",
              "    .dataframe thead th {\n",
              "        text-align: right;\n",
              "    }\n",
              "</style>\n",
              "<table border=\"1\" class=\"dataframe\">\n",
              "  <thead>\n",
              "    <tr style=\"text-align: right;\">\n",
              "      <th></th>\n",
              "      <th>Date</th>\n",
              "      <th>Open</th>\n",
              "      <th>High</th>\n",
              "      <th>Low</th>\n",
              "      <th>Close</th>\n",
              "      <th>Adj Close</th>\n",
              "      <th>Volume</th>\n",
              "    </tr>\n",
              "  </thead>\n",
              "  <tbody>\n",
              "    <tr>\n",
              "      <th>0</th>\n",
              "      <td>2016-04-01</td>\n",
              "      <td>533.0</td>\n",
              "      <td>536.500000</td>\n",
              "      <td>528.500000</td>\n",
              "      <td>532.500000</td>\n",
              "      <td>516.979248</td>\n",
              "      <td>75410.0</td>\n",
              "    </tr>\n",
              "    <tr>\n",
              "      <th>1</th>\n",
              "      <td>2016-04-04</td>\n",
              "      <td>534.5</td>\n",
              "      <td>536.224976</td>\n",
              "      <td>532.150024</td>\n",
              "      <td>534.650024</td>\n",
              "      <td>519.066589</td>\n",
              "      <td>70052.0</td>\n",
              "    </tr>\n",
              "    <tr>\n",
              "      <th>2</th>\n",
              "      <td>2016-04-05</td>\n",
              "      <td>534.0</td>\n",
              "      <td>538.325012</td>\n",
              "      <td>527.625000</td>\n",
              "      <td>529.150024</td>\n",
              "      <td>513.726807</td>\n",
              "      <td>158490.0</td>\n",
              "    </tr>\n",
              "    <tr>\n",
              "      <th>3</th>\n",
              "      <td>2016-04-06</td>\n",
              "      <td>532.5</td>\n",
              "      <td>533.400024</td>\n",
              "      <td>528.349976</td>\n",
              "      <td>530.750000</td>\n",
              "      <td>515.280212</td>\n",
              "      <td>87236.0</td>\n",
              "    </tr>\n",
              "    <tr>\n",
              "      <th>4</th>\n",
              "      <td>2016-04-07</td>\n",
              "      <td>535.0</td>\n",
              "      <td>535.500000</td>\n",
              "      <td>523.599976</td>\n",
              "      <td>527.825012</td>\n",
              "      <td>512.440491</td>\n",
              "      <td>79930.0</td>\n",
              "    </tr>\n",
              "  </tbody>\n",
              "</table>\n",
              "</div>"
            ],
            "text/plain": [
              "         Date   Open        High         Low       Close   Adj Close    Volume\n",
              "0  2016-04-01  533.0  536.500000  528.500000  532.500000  516.979248   75410.0\n",
              "1  2016-04-04  534.5  536.224976  532.150024  534.650024  519.066589   70052.0\n",
              "2  2016-04-05  534.0  538.325012  527.625000  529.150024  513.726807  158490.0\n",
              "3  2016-04-06  532.5  533.400024  528.349976  530.750000  515.280212   87236.0\n",
              "4  2016-04-07  535.0  535.500000  523.599976  527.825012  512.440491   79930.0"
            ]
          },
          "metadata": {
            "tags": []
          },
          "execution_count": 3
        }
      ]
    },
    {
      "cell_type": "code",
      "metadata": {
        "id": "rxQo60RMmMIq"
      },
      "source": [
        "df.dropna(axis=0, inplace=True)"
      ],
      "execution_count": 4,
      "outputs": []
    },
    {
      "cell_type": "code",
      "metadata": {
        "id": "0oFCJQIexe8s"
      },
      "source": [
        "df1=df[\"Close\"].values"
      ],
      "execution_count": 5,
      "outputs": []
    },
    {
      "cell_type": "code",
      "metadata": {
        "id": "JNg6DjuU3odO"
      },
      "source": [
        "df1=np.reshape(df1, (1231, 1))"
      ],
      "execution_count": 6,
      "outputs": []
    },
    {
      "cell_type": "code",
      "metadata": {
        "id": "FSdUO6G3jPUE"
      },
      "source": [
        "scaler=MinMaxScaler(feature_range=(0,1))\n",
        "df1=scaler.fit_transform(np.array(df1).reshape(-1,1))"
      ],
      "execution_count": 7,
      "outputs": []
    },
    {
      "cell_type": "code",
      "metadata": {
        "id": "j8hbK-RhzaO4"
      },
      "source": [
        "def create_dataset(dataset, lag_var=1):\n",
        "\tdatax, datay = [], []\n",
        "\tfor i in range(len(dataset)-lag_var-1):\n",
        "\t\ta = dataset[i:(i+lag_var), 0]   ###i=0,1,2,3,4\n",
        "\t\tdatax.append(a)\n",
        "\t\tdatay.append(dataset[i + lag_var, 0])\n",
        "\treturn np.array(datax), np.array(datay)"
      ],
      "execution_count": 8,
      "outputs": []
    },
    {
      "cell_type": "code",
      "metadata": {
        "id": "9gOO4bsw1LZM"
      },
      "source": [
        "lag_var=10\n",
        "X, y = create_dataset(df1, lag_var)"
      ],
      "execution_count": 9,
      "outputs": []
    },
    {
      "cell_type": "code",
      "metadata": {
        "id": "RsGz_94Kg9La"
      },
      "source": [
        "##splitting dataset into train and test split\n",
        "train_size=int(len(X)*0.75)\n",
        "test_size=len(X)-train_size\n",
        "train_X,test_X=X[0:train_size,:],X[train_size:,:]"
      ],
      "execution_count": 10,
      "outputs": []
    },
    {
      "cell_type": "code",
      "metadata": {
        "id": "B3FPs4deSukT"
      },
      "source": [
        "##splitting dataset into train and valid split\n",
        "train_size=int(len(train_X)*0.75)\n",
        "test_size=len(train_X)-train_size\n",
        "tr_X,valid_X=train_X[0:train_size,:],train_X[train_size:len(train_X),:]"
      ],
      "execution_count": 11,
      "outputs": []
    },
    {
      "cell_type": "code",
      "metadata": {
        "id": "cl3DeiIaRKVb"
      },
      "source": [
        "Trn_X =tr_X.reshape(tr_X.shape[0],tr_X.shape[1] , 1)\n",
        "val_X =valid_X.reshape(valid_X.shape[0],valid_X.shape[1] , 1)"
      ],
      "execution_count": 12,
      "outputs": []
    },
    {
      "cell_type": "code",
      "metadata": {
        "id": "2nc7EqiiTqIU"
      },
      "source": [
        "Trn_y=y[0:686]\n",
        "val_y=y[686:915]"
      ],
      "execution_count": 13,
      "outputs": []
    },
    {
      "cell_type": "code",
      "metadata": {
        "id": "JO8IhqquHv43"
      },
      "source": [
        "model=Sequential()\n",
        "model.add(LSTM(80, return_sequences=True,input_shape=(10,1)))\n",
        "model.add(LSTM(160))\n",
        "model.add(Activation('exponential'))\n",
        "model.add(Dense(1))\n",
        "model.compile(loss='mean_squared_error',optimizer='adam')\n",
        "# simple early stopping\n",
        "es = EarlyStopping(monitor='val_loss', patience=1, mode='auto', verbose=1, restore_best_weights=True)"
      ],
      "execution_count": 14,
      "outputs": []
    },
    {
      "cell_type": "code",
      "metadata": {
        "colab": {
          "base_uri": "https://localhost:8080/"
        },
        "id": "ZdsbgTrvSf3_",
        "outputId": "c77502b2-300a-426e-e5db-129815062ff7"
      },
      "source": [
        "begin = time.time()\n",
        "history = model.fit(Trn_X,Trn_y,validation_data=(val_X,val_y), epochs=1000, verbose=1, callbacks=[es])\n",
        "time.sleep(1)\n",
        "# store end time\n",
        "end = time.time()"
      ],
      "execution_count": 15,
      "outputs": [
        {
          "output_type": "stream",
          "text": [
            "Epoch 1/1000\n",
            "22/22 [==============================] - 5s 73ms/step - loss: 0.0046 - val_loss: 0.0017\n",
            "Epoch 2/1000\n",
            "22/22 [==============================] - 1s 33ms/step - loss: 3.6590e-04 - val_loss: 6.3693e-04\n",
            "Epoch 3/1000\n",
            "22/22 [==============================] - 1s 33ms/step - loss: 2.7454e-04 - val_loss: 0.0011\n",
            "Restoring model weights from the end of the best epoch.\n",
            "Epoch 00003: early stopping\n"
          ],
          "name": "stdout"
        }
      ]
    },
    {
      "cell_type": "code",
      "metadata": {
        "colab": {
          "base_uri": "https://localhost:8080/",
          "height": 500
        },
        "id": "h_pzHw_aLXcO",
        "outputId": "20e4911f-067e-486d-d8da-204d2dd88a33"
      },
      "source": [
        "df_loss=pd.DataFrame()\n",
        "df_loss['train_loss']=history.history['loss']\n",
        "df_loss['val_loss']=history.history['val_loss']\n",
        "df_loss.reset_index(inplace=True)\n",
        "df_loss = df_loss.rename(columns = {'index':'Epoch'})\n",
        "\n",
        "legend_properties = {'weight':'bold'}\n",
        "fig, axes = plt.subplots(figsize=(13,7))\n",
        "sns.lineplot(x='Epoch', y='value', hue='variable', \n",
        "             data=pd.melt(df_loss, ['Epoch']), color='red', linewidth=2.5)\n",
        "plt.title(\"Loss curve using Adam optimizer with exponential function\", fontsize=14, fontweight=\"bold\")\n",
        "plt.xlabel(\"Epoch\", fontsize=14, fontweight=\"bold\")\n",
        "plt.ylabel(\"Mean Squared Error\", fontsize=14, fontweight=\"bold\")\n",
        "plt.xticks(fontsize=12, fontweight=\"bold\")\n",
        "plt.legend(fontsize=12, prop=legend_properties)\n",
        "plt.yticks(fontsize=12, fontweight=\"bold\")\n",
        "#plt.savefig(\"loss_rmsprop_exponential.jpg\")"
      ],
      "execution_count": 16,
      "outputs": [
        {
          "output_type": "execute_result",
          "data": {
            "text/plain": [
              "(array([0.   , 0.001, 0.002, 0.003, 0.004, 0.005]),\n",
              " <a list of 6 Text major ticklabel objects>)"
            ]
          },
          "metadata": {
            "tags": []
          },
          "execution_count": 16
        },
        {
          "output_type": "display_data",
          "data": {
            "image/png": "[encoded data removed]",
            "text/plain": [
              "<Figure size 936x504 with 1 Axes>"
            ]
          },
          "metadata": {
            "tags": [],
            "needs_background": "light"
          }
        }
      ]
    },
    {
      "cell_type": "code",
      "metadata": {
        "id": "93Ip-4KcZBLu"
      },
      "source": [
        "tst_X =test_X.reshape(test_X.shape[0],test_X.shape[1] , 1)\n",
        "X_trans=X.reshape(X.shape[0],X.shape[1] , 1)\n",
        "tst_predict=model.predict(tst_X)\n",
        "X_pred=model.predict(X_trans)"
      ],
      "execution_count": 17,
      "outputs": []
    },
    {
      "cell_type": "code",
      "metadata": {
        "id": "w24q4-E6koR4"
      },
      "source": [
        "test_predict=scaler.inverse_transform(tst_predict)\n",
        "X_predict=scaler.inverse_transform(X_pred)\n",
        "y_original=scaler.inverse_transform(y.reshape(-1,1))"
      ],
      "execution_count": 18,
      "outputs": []
    },
    {
      "cell_type": "code",
      "metadata": {
        "colab": {
          "base_uri": "https://localhost:8080/"
        },
        "id": "TmZmaPmv6v6I",
        "outputId": "37d32267-9def-4086-bbcc-e9f48afaa872"
      },
      "source": [
        "#mape test\n",
        "def mean_absolute_percentage_error(y_true, y_pred): \n",
        "    #y_true, y_pred = check_arrays(y_true, y_pred)\n",
        "\n",
        "    ## Note: does not handle mix 1d representation\n",
        "    #if _is_1d(y_true): \n",
        "    #    y_true, y_pred = _check_1d_array(y_true, y_pred)\n",
        "\n",
        "    return np.mean(np.abs((y_true - y_pred) / y_true)) * 100\n",
        "mean_absolute_percentage_error(y_original, X_predict)"
      ],
      "execution_count": 19,
      "outputs": [
        {
          "output_type": "execute_result",
          "data": {
            "text/plain": [
              "2.1693711002758334"
            ]
          },
          "metadata": {
            "tags": []
          },
          "execution_count": 19
        }
      ]
    },
    {
      "cell_type": "code",
      "metadata": {
        "colab": {
          "base_uri": "https://localhost:8080/"
        },
        "id": "3fO2SPtF66Av",
        "outputId": "8e8f0eae-5ec9-436d-c77b-8ad34794782e"
      },
      "source": [
        "#mape test\n",
        "mean_absolute_percentage_error(y_original[915:],test_predict)"
      ],
      "execution_count": 20,
      "outputs": [
        {
          "output_type": "execute_result",
          "data": {
            "text/plain": [
              "3.6617653055782435"
            ]
          },
          "metadata": {
            "tags": []
          },
          "execution_count": 20
        }
      ]
    },
    {
      "cell_type": "code",
      "metadata": {
        "colab": {
          "base_uri": "https://localhost:8080/"
        },
        "id": "PAxeb4Hv7ClS",
        "outputId": "1d08bc03-0eee-4481-b337-2d3f3759434d"
      },
      "source": [
        "#mape val\n",
        "mean_absolute_percentage_error(y_original[686:915],X_predict[686:915])"
      ],
      "execution_count": 21,
      "outputs": [
        {
          "output_type": "execute_result",
          "data": {
            "text/plain": [
              "1.6959269141751263"
            ]
          },
          "metadata": {
            "tags": []
          },
          "execution_count": 21
        }
      ]
    },
    {
      "cell_type": "code",
      "metadata": {
        "colab": {
          "base_uri": "https://localhost:8080/"
        },
        "id": "h-47Ro2Z7FNg",
        "outputId": "590a764a-c196-46c0-c2df-41c64e404910"
      },
      "source": [
        "#mape train\n",
        "mean_absolute_percentage_error(y_original[:686],X_predict[:686])"
      ],
      "execution_count": 22,
      "outputs": [
        {
          "output_type": "execute_result",
          "data": {
            "text/plain": [
              "1.663887877071168"
            ]
          },
          "metadata": {
            "tags": []
          },
          "execution_count": 22
        }
      ]
    },
    {
      "cell_type": "code",
      "metadata": {
        "colab": {
          "base_uri": "https://localhost:8080/"
        },
        "id": "SL83dRIBZSZ9",
        "outputId": "10c336a1-e607-4483-cd00-61764bdb966c"
      },
      "source": [
        "#rmse full\n",
        "math.sqrt(mean_squared_error(y_original, X_predict))"
      ],
      "execution_count": 23,
      "outputs": [
        {
          "output_type": "execute_result",
          "data": {
            "text/plain": [
              "33.00743075639953"
            ]
          },
          "metadata": {
            "tags": []
          },
          "execution_count": 23
        }
      ]
    },
    {
      "cell_type": "code",
      "metadata": {
        "colab": {
          "base_uri": "https://localhost:8080/"
        },
        "id": "-rd58BQkQ2jy",
        "outputId": "9e47c9ec-6b65-45a8-d561-0da5fdcdf10c"
      },
      "source": [
        "#rmse test\n",
        "math.sqrt(mean_squared_error(y_original[915:],test_predict))"
      ],
      "execution_count": 24,
      "outputs": [
        {
          "output_type": "execute_result",
          "data": {
            "text/plain": [
              "56.11038064418988"
            ]
          },
          "metadata": {
            "tags": []
          },
          "execution_count": 24
        }
      ]
    },
    {
      "cell_type": "code",
      "metadata": {
        "colab": {
          "base_uri": "https://localhost:8080/"
        },
        "id": "jPNELB53Nhcr",
        "outputId": "57a9619a-63f1-4421-f316-07ccaefb2cb7"
      },
      "source": [
        "#rmse val\n",
        "math.sqrt(mean_squared_error(y_original[686:915],X_predict[686:915]))"
      ],
      "execution_count": 25,
      "outputs": [
        {
          "output_type": "execute_result",
          "data": {
            "text/plain": [
              "27.73021244214156"
            ]
          },
          "metadata": {
            "tags": []
          },
          "execution_count": 25
        }
      ]
    },
    {
      "cell_type": "code",
      "metadata": {
        "colab": {
          "base_uri": "https://localhost:8080/"
        },
        "id": "kAadrAM3Ni2b",
        "outputId": "5628299a-e845-4b41-c516-bbac00681583"
      },
      "source": [
        "#rmse train\n",
        "math.sqrt(mean_squared_error(y_original[:686],X_predict[:686]))"
      ],
      "execution_count": 26,
      "outputs": [
        {
          "output_type": "execute_result",
          "data": {
            "text/plain": [
              "16.76589061755506"
            ]
          },
          "metadata": {
            "tags": []
          },
          "execution_count": 26
        }
      ]
    },
    {
      "cell_type": "code",
      "metadata": {
        "colab": {
          "base_uri": "https://localhost:8080/"
        },
        "id": "xRLrvfAr1RQp",
        "outputId": "7414b107-fffc-484e-f442-2a5beeb969a2"
      },
      "source": [
        "#r2 full\n",
        "r2_score(y_original,X_predict)"
      ],
      "execution_count": 27,
      "outputs": [
        {
          "output_type": "execute_result",
          "data": {
            "text/plain": [
              "0.9819158088953486"
            ]
          },
          "metadata": {
            "tags": []
          },
          "execution_count": 27
        }
      ]
    },
    {
      "cell_type": "code",
      "metadata": {
        "colab": {
          "base_uri": "https://localhost:8080/"
        },
        "id": "wFopnN17Q7Bm",
        "outputId": "fecbdebe-4af8-4c97-d686-876c7f4b68cc"
      },
      "source": [
        "#r2 test\n",
        "r2_score(y_original[915:],test_predict)"
      ],
      "execution_count": 28,
      "outputs": [
        {
          "output_type": "execute_result",
          "data": {
            "text/plain": [
              "0.9318439683089783"
            ]
          },
          "metadata": {
            "tags": []
          },
          "execution_count": 28
        }
      ]
    },
    {
      "cell_type": "code",
      "metadata": {
        "colab": {
          "base_uri": "https://localhost:8080/"
        },
        "id": "ODTmsOKjII9Q",
        "outputId": "a3eebcd0-5178-4769-e552-4fa96a1b1a80"
      },
      "source": [
        "#r2 val\n",
        "r2_score(y_original[686:915],X_predict[686:915])"
      ],
      "execution_count": 29,
      "outputs": [
        {
          "output_type": "execute_result",
          "data": {
            "text/plain": [
              "0.8561516509544509"
            ]
          },
          "metadata": {
            "tags": []
          },
          "execution_count": 29
        }
      ]
    },
    {
      "cell_type": "code",
      "metadata": {
        "colab": {
          "base_uri": "https://localhost:8080/"
        },
        "id": "cIZSBnucKKZ1",
        "outputId": "72a02b5d-730b-4058-c63f-67567d4f9974"
      },
      "source": [
        "#r2 train\n",
        "r2_score(y_original[:686],X_predict[:686])"
      ],
      "execution_count": 30,
      "outputs": [
        {
          "output_type": "execute_result",
          "data": {
            "text/plain": [
              "0.9904948220794173"
            ]
          },
          "metadata": {
            "tags": []
          },
          "execution_count": 30
        }
      ]
    },
    {
      "cell_type": "code",
      "metadata": {
        "id": "3qPPQXFPu7iJ"
      },
      "source": [
        "df['Date']=pd.to_datetime(df[\"Date\"])\n",
        "df[\"month_year\"]=df[\"Date\"].dt.strftime('%Y-%m')\n",
        "dates=df[\"month_year\"].iloc[10:1230].values"
      ],
      "execution_count": 32,
      "outputs": []
    },
    {
      "cell_type": "code",
      "metadata": {
        "id": "rp1Lzzih5mzM"
      },
      "source": [
        "final=pd.DataFrame()"
      ],
      "execution_count": 33,
      "outputs": []
    },
    {
      "cell_type": "code",
      "metadata": {
        "id": "leNicrs-5rVu"
      },
      "source": [
        "final['real']=np.reshape(y_original, (1220,))\n",
        "final['predicted']=np.reshape(X_predict, (1220,))\n",
        "final['date']=dates"
      ],
      "execution_count": 34,
      "outputs": []
    },
    {
      "cell_type": "code",
      "metadata": {
        "colab": {
          "base_uri": "https://localhost:8080/",
          "height": 650
        },
        "id": "BOFJwkgc-tR4",
        "outputId": "ca1bfb22-3e62-406d-8084-bc0ea21c1d5d"
      },
      "source": [
        "legend_properties = {'weight':'bold'}\n",
        "fig, axes = plt.subplots(figsize=(18,9))\n",
        "sns.lineplot(x='date', y='value', hue='variable', \n",
        "             data=pd.melt(final, ['date']), linewidth=3.5, marker = 'o')\n",
        "plt.title(\"Predicted VS Actual Plots With Adam\", fontsize=14, fontweight=\"bold\")\n",
        "plt.xlabel(\"Date\", fontsize=14, fontweight=\"bold\")\n",
        "plt.ylabel(\"HDFC Bank Stock Price\", fontsize=14, fontweight=\"bold\")\n",
        "plt.xticks(fontsize=12, rotation = 'vertical', fontweight=\"bold\")\n",
        "plt.legend(fontsize=12, prop=legend_properties)\n",
        "plt.yticks(fontsize=12, fontweight=\"bold\")\n",
        "#plt.savefig(\"predicted_plot_adam_lag10.jpg\")"
      ],
      "execution_count": 35,
      "outputs": [
        {
          "output_type": "execute_result",
          "data": {
            "text/plain": [
              "(array([ 400.,  600.,  800., 1000., 1200., 1400., 1600., 1800.]),\n",
              " <a list of 8 Text major ticklabel objects>)"
            ]
          },
          "metadata": {
            "tags": []
          },
          "execution_count": 35
        },
        {
          "output_type": "display_data",
          "data": {
            "image/png": "[encoded data removed]",
            "text/plain": [
              "<Figure size 1296x648 with 1 Axes>"
            ]
          },
          "metadata": {
            "tags": [],
            "needs_background": "light"
          }
        }
      ]
    },
    {
      "cell_type": "code",
      "metadata": {
        "id": "0Lo0sF6ps4Ye"
      },
      "source": [
        ""
      ],
      "execution_count": null,
      "outputs": []
    }
  ]
}